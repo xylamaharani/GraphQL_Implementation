{
 "cells": [
  {
   "cell_type": "code",
   "execution_count": 83,
   "metadata": {},
   "outputs": [],
   "source": [
    "# pip install graphene==3.0.0\n",
    "# pip install mysql-connector-python\n"
   ]
  },
  {
   "cell_type": "markdown",
   "metadata": {},
   "source": [
    "# IMPORT LIBRARIES"
   ]
  },
  {
   "cell_type": "code",
   "execution_count": 84,
   "metadata": {},
   "outputs": [],
   "source": [
    "import graphene\n",
    "from pprint import pprint\n",
    "import mysql.connector\n",
    "from mysql.connector import errorcode\n"
   ]
  },
  {
   "cell_type": "markdown",
   "metadata": {},
   "source": [
    "# AIVEN DB CONNECTION "
   ]
  },
  {
   "cell_type": "markdown",
   "metadata": {},
   "source": [
    "## Connect databas"
   ]
  },
  {
   "cell_type": "code",
   "execution_count": 85,
   "metadata": {},
   "outputs": [],
   "source": [
    "config = {\n",
    "    'user': 'avnadmin',\n",
    "    'password': 'AVNS_8pk8_VpEMvETZuR__I4',\n",
    "    'host': 'libratur-database-xylamaharanii-9ca8.b.aivencloud.com',\n",
    "    'port': '15532',\n",
    "    'database': 'graphql_eai',\n",
    "}\n",
    "\n",
    "conn = mysql.connector.connect(**config)"
   ]
  },
  {
   "cell_type": "markdown",
   "metadata": {},
   "source": [
    "### Checking connection"
   ]
  },
  {
   "cell_type": "code",
   "execution_count": 86,
   "metadata": {},
   "outputs": [
    {
     "name": "stdout",
     "output_type": "stream",
     "text": [
      "Connection successful\n"
     ]
    }
   ],
   "source": [
    "try:\n",
    "    conn = mysql.connector.connect(**config)\n",
    "    print(\"Connection successful\")\n",
    "    cursor = conn.cursor()\n",
    "except mysql.connector.Error as err:\n",
    "    if err.errno == errorcode.ER_ACCESS_DENIED_ERROR:\n",
    "        print(\"Something is wrong with your user name or password\")\n",
    "    elif err.errno == errorcode.ER_BAD_DB_ERROR:\n",
    "        print(\"Database does not exist\")\n",
    "    else:\n",
    "        print(err)"
   ]
  },
  {
   "cell_type": "markdown",
   "metadata": {},
   "source": [
    "## Create Table"
   ]
  },
  {
   "cell_type": "code",
   "execution_count": 87,
   "metadata": {},
   "outputs": [],
   "source": [
    "# create_table_query = \"\"\"\n",
    "#     CREATE TABLE IF NOT EXISTS tiket_penerbangan (\n",
    "#         kodePenerbangan INT PRIMARY KEY,\n",
    "#         namaMaskapai VARCHAR(255) NOT NULL,\n",
    "#         harga INT NOT NULL\n",
    "#     )\n",
    "#     \"\"\"\n",
    "# cursor.execute(create_table_query)\n",
    "# conn.commit()"
   ]
  },
  {
   "cell_type": "code",
   "execution_count": 88,
   "metadata": {},
   "outputs": [],
   "source": [
    "# import mysql.connector\n",
    "# from mysql.connector import errorcode\n",
    "\n",
    "# # Aiven DB Connection\n",
    "# config = {\n",
    "#     'user': 'avnadmin',\n",
    "#     'password': 'AVNS_8pk8_VpEMvETZuR__I4',\n",
    "#     'host': 'libratur-database-xylamaharanii-9ca8.b.aivencloud.com',\n",
    "#     'port': '15532',\n",
    "#     'database': 'graphql_eai',\n",
    "# }\n",
    "\n",
    "# # Establish connection\n",
    "# try:\n",
    "#     conn = mysql.connector.connect(**config)\n",
    "#     print(\"Connection successful\")\n",
    "#     cursor = conn.cursor()\n",
    "\n",
    "#     # Create keranjang table\n",
    "#     create_keranjang_table_query = \"\"\"\n",
    "#     CREATE TABLE IF NOT EXISTS keranjang (\n",
    "#         id INT AUTO_INCREMENT PRIMARY KEY,\n",
    "#         kodePenerbangan INT,\n",
    "#         namaPemesan VARCHAR(255),\n",
    "#         jumlahTiket INT,\n",
    "#         FOREIGN KEY (kodePenerbangan) REFERENCES tiket_penerbangan(kodePenerbangan)\n",
    "#     )\n",
    "#     \"\"\"\n",
    "#     cursor.execute(create_keranjang_table_query)\n",
    "#     conn.commit()\n",
    "#     print(\"keranjang table created successfully\")\n",
    "\n"
   ]
  },
  {
   "cell_type": "markdown",
   "metadata": {},
   "source": [
    "### create view for keranjang"
   ]
  },
  {
   "cell_type": "code",
   "execution_count": 89,
   "metadata": {},
   "outputs": [],
   "source": [
    "# # Establish connection\n",
    "# try:\n",
    "#     conn = mysql.connector.connect(**config)\n",
    "#     print(\"Connection successful\")\n",
    "#     cursor = conn.cursor()\n",
    "\n",
    "#     # Create view to calculate total price\n",
    "#     create_view_query = \"\"\"\n",
    "#     CREATE OR REPLACE VIEW keranjang_view AS\n",
    "#     SELECT \n",
    "#         k.id,\n",
    "#         k.kodePenerbangan,\n",
    "#         k.namaPemesan,\n",
    "#         k.jumlahTiket,\n",
    "#         tp.harga,\n",
    "#         (k.jumlahTiket * tp.harga) AS totalPrice\n",
    "#     FROM \n",
    "#         keranjang k\n",
    "#     JOIN \n",
    "#         tiket_penerbangan tp ON k.kodePenerbangan = tp.kodePenerbangan\n",
    "#     \"\"\"\n",
    "#     cursor.execute(create_view_query)\n",
    "#     conn.commit()\n",
    "#     print(\"View keranjang_view created successfully\")\n",
    "\n",
    "#     cursor.close()\n",
    "# except mysql.connector.Error as err:\n",
    "#     if err.errno == errorcode.ER_ACCESS_DENIED_ERROR:\n",
    "#         print(\"Something is wrong with your username or password\")\n",
    "#     elif err.errno == errorcode.ER_BAD_DB_ERROR:\n",
    "#         print(\"Database does not exist\")\n",
    "#     else:\n",
    "#         print(err)\n",
    "\n"
   ]
  },
  {
   "cell_type": "markdown",
   "metadata": {},
   "source": [
    "## Add Data"
   ]
  },
  {
   "cell_type": "code",
   "execution_count": 90,
   "metadata": {},
   "outputs": [],
   "source": [
    "# ## adding data\n",
    "# data = [\n",
    "#         {'kodePenerbangan': 1, 'namaMaskapai': 'Indonesia Air', 'harga': 2500000},\n",
    "#         {'kodePenerbangan': 2, 'namaMaskapai': 'Australia Air', 'harga': 2600000},\n",
    "#         {'kodePenerbangan': 3, 'namaMaskapai': 'Netherland Air', 'harga': 2700000},\n",
    "#         {'kodePenerbangan': 4, 'namaMaskapai': 'America Air', 'harga': 2800000},\n",
    "#         {'kodePenerbangan': 5, 'namaMaskapai': 'Missisipi Air', 'harga': 2900000},\n",
    "#         {'kodePenerbangan': 6, 'namaMaskapai': 'Japan Air', 'harga': 3000000}\n",
    "#     ]\n",
    "    \n",
    "# insert_query = \"\"\"\n",
    "#     INSERT INTO tiket_penerbangan (kodePenerbangan, namaMaskapai, harga)\n",
    "#     VALUES (%s, %s, %s)\n",
    "#     \"\"\"\n",
    "    \n",
    "# for item in data:\n",
    "#         cursor.execute(insert_query, (item['kodePenerbangan'], item['namaMaskapai'], item['harga']))\n",
    "    \n",
    "# conn.commit()\n",
    "# cursor.close()\n",
    "# conn.close()\n",
    "# print(\"Table created and data inserted successfully\")"
   ]
  },
  {
   "cell_type": "markdown",
   "metadata": {},
   "source": [
    "# OBJECT, QUERY, and MUTATION"
   ]
  },
  {
   "cell_type": "code",
   "execution_count": 103,
   "metadata": {},
   "outputs": [],
   "source": [
    "class TiketPenerbangan(graphene.ObjectType):\n",
    "    kodePenerbangan = graphene.ID()\n",
    "    namaMaskapai = graphene.String()\n",
    "    harga = graphene.Int()\n",
    "\n",
    "class Keranjang(graphene.ObjectType):\n",
    "    id = graphene.ID()\n",
    "    kodePenerbangan = graphene.Int()\n",
    "    namaPemesan = graphene.String()\n",
    "    jumlahTiket = graphene.Int()\n",
    "    harga = graphene.Int()\n",
    "    totalPrice = graphene.Int()\n",
    "\n",
    "# Input Types for Mutations\n",
    "class AddTiketInput(graphene.InputObjectType):\n",
    "    kodePenerbangan = graphene.Int(required=True)\n",
    "    namaMaskapai = graphene.String(required=True)\n",
    "    harga = graphene.Int(required=True)\n",
    "\n",
    "class AddToKeranjangInput(graphene.InputObjectType):\n",
    "    kodePenerbangan = graphene.Int(required=True)\n",
    "    namaPemesan = graphene.String(required=True)\n",
    "    jumlahTiket = graphene.Int(required=True)\n",
    "\n",
    "# Mutation to Add Tiket\n",
    "class AddTiket(graphene.Mutation):\n",
    "    class Arguments:\n",
    "        input = AddTiketInput(required=True)\n",
    "\n",
    "    tiket = graphene.Field(TiketPenerbangan)\n",
    "\n",
    "    def mutate(self, info, input):\n",
    "        try:\n",
    "            conn = mysql.connector.connect(**config)\n",
    "            cursor = conn.cursor()\n",
    "\n",
    "            add_tiket_query = \"\"\"\n",
    "            INSERT INTO tiket_penerbangan (kodePenerbangan, namaMaskapai, harga)\n",
    "            VALUES (%s, %s, %s)\n",
    "            \"\"\"\n",
    "            cursor.execute(add_tiket_query, (input.kodePenerbangan, input.namaMaskapai, input.harga))\n",
    "            conn.commit()\n",
    "            cursor.close()\n",
    "            conn.close()\n",
    "\n",
    "            return AddTiket(tiket=TiketPenerbangan(kodePenerbangan=input.kodePenerbangan, namaMaskapai=input.namaMaskapai, harga=input.harga))\n",
    "        except mysql.connector.Error as err:\n",
    "            print(\"Error:\", err)\n",
    "            return None\n",
    "\n",
    "# Mutation to Add to Keranjang\n",
    "class AddToKeranjang(graphene.Mutation):\n",
    "    class Arguments:\n",
    "        input = AddToKeranjangInput(required=True)\n",
    "\n",
    "    keranjang = graphene.Field(Keranjang)\n",
    "\n",
    "    def mutate(self, info, input):\n",
    "        try:\n",
    "            conn = mysql.connector.connect(**config)\n",
    "            cursor = conn.cursor(dictionary=True)\n",
    "\n",
    "            # Insert into keranjang\n",
    "            add_keranjang_query = \"\"\"\n",
    "            INSERT INTO keranjang (namaPemesan, kodePenerbangan, jumlahTiket)\n",
    "            VALUES (%s, %s, %s)\n",
    "            \"\"\"\n",
    "            cursor.execute(add_keranjang_query, (input.namaPemesan, input.kodePenerbangan, input.jumlahTiket))\n",
    "            conn.commit()\n",
    "\n",
    "            keranjang_id = cursor.lastrowid\n",
    "\n",
    "            # Query the view to get the total price\n",
    "            cursor.execute(\"SELECT * FROM keranjang_view WHERE id = %s\", (keranjang_id,))\n",
    "            keranjang_item = cursor.fetchone()\n",
    "\n",
    "            cursor.close()\n",
    "            conn.close()\n",
    "\n",
    "            return AddToKeranjang(keranjang=Keranjang(\n",
    "                id=keranjang_item['id'],\n",
    "                namaPemesan=keranjang_item['namaPemesan'],\n",
    "                kodePenerbangan=keranjang_item['kodePenerbangan'],\n",
    "                jumlahTiket=keranjang_item['jumlahTiket'],\n",
    "                totalPrice=keranjang_item['totalPrice']\n",
    "            ))\n",
    "        \n",
    "        except mysql.connector.Error as err:\n",
    "            print(\"Error:\", err)\n",
    "            return None\n",
    "\n",
    "# Define Queries\n",
    "class Query(graphene.ObjectType):\n",
    "    tiket = graphene.Field(TiketPenerbangan, kodePenerbangan=graphene.ID(required=True))\n",
    "    tikets = graphene.List(TiketPenerbangan)\n",
    "    keranjang_items = graphene.List(Keranjang)\n",
    "\n",
    "    def resolve_keranjang_items(self, info):\n",
    "        try:\n",
    "            conn = mysql.connector.connect(**config)\n",
    "            cursor = conn.cursor(dictionary=True)\n",
    "\n",
    "            # Query the view\n",
    "            query_view = \"SELECT * FROM keranjang_view\"\n",
    "            cursor.execute(query_view)\n",
    "            results = cursor.fetchall()\n",
    "\n",
    "            cursor.close()\n",
    "            conn.close()\n",
    "\n",
    "            return [Keranjang(**result) for result in results]\n",
    "        except mysql.connector.Error as err:\n",
    "            print(\"Error:\", err)\n",
    "            return []\n",
    "\n",
    "    def resolve_tiket(self, info, kodePenerbangan):\n",
    "        cursor = conn.cursor(dictionary=True)\n",
    "        cursor.execute(\"SELECT * FROM tiket_penerbangan WHERE kodePenerbangan = %s\", (kodePenerbangan,))\n",
    "        result = cursor.fetchone()\n",
    "        cursor.close()\n",
    "        if result:\n",
    "            return TiketPenerbangan(**result)\n",
    "        return None\n",
    "\n",
    "    def resolve_tikets(self, info):\n",
    "        cursor = conn.cursor(dictionary=True)\n",
    "        cursor.execute(\"SELECT * FROM tiket_penerbangan\")\n",
    "        results = cursor.fetchall()\n",
    "        cursor.close()\n",
    "        return [TiketPenerbangan(**result) for result in results]\n",
    "\n",
    "    def resolve_add_to_keranjang(self, info, input):\n",
    "        try:\n",
    "            conn = mysql.connector.connect(**config)\n",
    "            cursor = conn.cursor(dictionary=True)\n",
    "\n",
    "            # Validate input\n",
    "            if input.kodePenerbangan < 0:\n",
    "                raise ValueError(\"Kode Penerbangan must be a positive integer.\")\n",
    "            if input.jumlahTiket <= 0:\n",
    "                raise ValueError(\"Jumlah Tiket must be a positive integer.\")\n",
    "\n",
    "            # Get the price of the flight from tiket_penerbangan\n",
    "            cursor.execute(\"SELECT harga FROM tiket_penerbangan WHERE kodePenerbangan = %s\", (input.kodePenerbangan,))\n",
    "            flight = cursor.fetchone()\n",
    "\n",
    "            if not flight:\n",
    "                raise ValueError(\"Flight not found\")\n",
    "\n",
    "            totalPrice = flight['harga'] * input.jumlahTiket\n",
    "\n",
    "            # Insert into keranjang\n",
    "            add_keranjang_query = \"\"\"\n",
    "            INSERT INTO keranjang (namaPemesan, kodePenerbangan, jumlahTiket, totalPrice)\n",
    "            VALUES (%s, %s, %s, %s)\n",
    "            \"\"\"\n",
    "            cursor.execute(add_keranjang_query, (input.namaPemesan, input.kodePenerbangan, input.jumlahTiket, totalPrice))\n",
    "            conn.commit()\n",
    "\n",
    "            keranjang_id = cursor.lastrowid\n",
    "\n",
    "            cursor.close()\n",
    "            conn.close()\n",
    "\n",
    "            return AddToKeranjang(keranjang=Keranjang(\n",
    "                id=keranjang_id,\n",
    "                namaPemesan=input.namaPemesan,\n",
    "                kodePenerbangan=input.kodePenerbangan,\n",
    "                jumlahTiket=input.jumlahTiket,\n",
    "                totalPrice=totalPrice\n",
    "            ))\n",
    "        except mysql.connector.Error as err:\n",
    "            print(\"Error:\", err)\n",
    "            return None\n",
    "\n",
    "\n",
    "# Define Mutations\n",
    "class Mutation(graphene.ObjectType):\n",
    "    add_tiket = AddTiket.Field()\n",
    "    add_to_keranjang = AddToKeranjang.Field()\n",
    "\n",
    "# Create Schema\n",
    "schema = graphene.Schema(query=Query, mutation=Mutation)"
   ]
  },
  {
   "cell_type": "markdown",
   "metadata": {},
   "source": [
    "# SHOW INFORMATION"
   ]
  },
  {
   "cell_type": "markdown",
   "metadata": {},
   "source": [
    "## Get Info by ID"
   ]
  },
  {
   "cell_type": "code",
   "execution_count": 105,
   "metadata": {},
   "outputs": [
    {
     "name": "stdout",
     "output_type": "stream",
     "text": [
      "Result data:\n",
      "{'tiket': {'harga': 9999999,\n",
      "           'kodePenerbangan': '8',\n",
      "           'namaMaskapai': 'Testing Air'}}\n"
     ]
    }
   ],
   "source": [
    "q = \"\"\"\n",
    "{\n",
    "    tiket(kodePenerbangan: \"8\") {\n",
    "        kodePenerbangan\n",
    "        namaMaskapai        \n",
    "        harga\n",
    "    }\n",
    "}\n",
    "\"\"\"\n",
    "\n",
    "result = schema.execute(q)\n",
    "if result.errors:\n",
    "    print(\"Errors occurred:\")\n",
    "    for error in result.errors:\n",
    "        print(error)\n",
    "else:\n",
    "    print(\"Result data:\")\n",
    "    pprint(result.data)"
   ]
  },
  {
   "cell_type": "markdown",
   "metadata": {},
   "source": [
    "## Get all Info"
   ]
  },
  {
   "cell_type": "code",
   "execution_count": 107,
   "metadata": {},
   "outputs": [
    {
     "name": "stdout",
     "output_type": "stream",
     "text": [
      "Result data:\n",
      "{'tikets': [{'harga': 2500000,\n",
      "             'kodePenerbangan': '1',\n",
      "             'namaMaskapai': 'Indonesia Air'},\n",
      "            {'harga': 2600000,\n",
      "             'kodePenerbangan': '2',\n",
      "             'namaMaskapai': 'Australia Air'},\n",
      "            {'harga': 2700000,\n",
      "             'kodePenerbangan': '3',\n",
      "             'namaMaskapai': 'Netherland Air'},\n",
      "            {'harga': 2800000,\n",
      "             'kodePenerbangan': '4',\n",
      "             'namaMaskapai': 'America Air'},\n",
      "            {'harga': 2900000,\n",
      "             'kodePenerbangan': '5',\n",
      "             'namaMaskapai': 'Missisipi Air'},\n",
      "            {'harga': 3000000,\n",
      "             'kodePenerbangan': '6',\n",
      "             'namaMaskapai': 'Japan Air'},\n",
      "            {'harga': 3100000,\n",
      "             'kodePenerbangan': '7',\n",
      "             'namaMaskapai': 'Korean Air'},\n",
      "            {'harga': 9999999,\n",
      "             'kodePenerbangan': '8',\n",
      "             'namaMaskapai': 'Testing Air'}]}\n"
     ]
    }
   ],
   "source": [
    "q = \"\"\"\n",
    "{\n",
    "    tikets {\n",
    "        kodePenerbangan  \n",
    "        harga\n",
    "        namaMaskapai\n",
    "    }\n",
    "}\n",
    "\"\"\"\n",
    "\n",
    "result = schema.execute(q)\n",
    "if result.errors:\n",
    "    print(\"Errors occurred:\")\n",
    "    for error in result.errors:\n",
    "        print(error)\n",
    "else:\n",
    "    print(\"Result data:\")\n",
    "    pprint(result.data)"
   ]
  },
  {
   "cell_type": "markdown",
   "metadata": {},
   "source": [
    "# INSERT FLIGHTS"
   ]
  },
  {
   "cell_type": "markdown",
   "metadata": {},
   "source": [
    "## Add Flights"
   ]
  },
  {
   "cell_type": "code",
   "execution_count": 109,
   "metadata": {},
   "outputs": [
    {
     "name": "stdout",
     "output_type": "stream",
     "text": [
      "Mutation result data:\n",
      "{'addTiket': {'tiket': {'harga': 1222222,\n",
      "                        'kodePenerbangan': '10',\n",
      "                        'namaMaskapai': 'Lion Air'}}}\n"
     ]
    }
   ],
   "source": [
    "mutation_add_tiket = \"\"\"\n",
    "mutation {\n",
    "    addTiket(input: {kodePenerbangan: 10, namaMaskapai: \"Lion Air\", harga: 1222222}) {\n",
    "        tiket {\n",
    "            kodePenerbangan\n",
    "            namaMaskapai\n",
    "            harga\n",
    "        }\n",
    "    }\n",
    "}\n",
    "\"\"\"\n",
    "\n",
    "result = schema.execute(mutation_add_tiket)\n",
    "if result.errors:\n",
    "    print(\"Errors occurred:\")\n",
    "    for error in result.errors:\n",
    "        print(error)\n",
    "else:\n",
    "    print(\"Mutation result data:\")\n",
    "    pprint(result.data)\n"
   ]
  },
  {
   "cell_type": "markdown",
   "metadata": {},
   "source": [
    "## Add to Keranjang"
   ]
  },
  {
   "cell_type": "code",
   "execution_count": 110,
   "metadata": {},
   "outputs": [
    {
     "name": "stdout",
     "output_type": "stream",
     "text": [
      "Mutation result data:\n",
      "{'addToKeranjang': {'keranjang': {'id': '6',\n",
      "                                  'jumlahTiket': 2,\n",
      "                                  'kodePenerbangan': 3,\n",
      "                                  'namaPemesan': 'Regina',\n",
      "                                  'totalPrice': 5400000}}}\n"
     ]
    }
   ],
   "source": [
    "mutation_add_to_keranjang = \"\"\"\n",
    "mutation {\n",
    "    addToKeranjang(input: {namaPemesan: \"Regina\", kodePenerbangan: 3, jumlahTiket: 2}) {\n",
    "        keranjang {\n",
    "            id\n",
    "            namaPemesan\n",
    "            kodePenerbangan\n",
    "            jumlahTiket\n",
    "            totalPrice\n",
    "        }\n",
    "    }\n",
    "}\n",
    "\"\"\"\n",
    "\n",
    "result = schema.execute(mutation_add_to_keranjang)\n",
    "if result.errors:\n",
    "    print(\"Errors occurred:\")\n",
    "    for error in result.errors:\n",
    "        print(error)\n",
    "else:\n",
    "    print(\"Mutation result data:\")\n",
    "    pprint(result.data)"
   ]
  },
  {
   "cell_type": "markdown",
   "metadata": {},
   "source": [
    "### Show Keranjang"
   ]
  },
  {
   "cell_type": "code",
   "execution_count": 111,
   "metadata": {},
   "outputs": [
    {
     "name": "stdout",
     "output_type": "stream",
     "text": [
      "Query result data:\n",
      "{'keranjangItems': [{'harga': 2500000,\n",
      "                     'id': '1',\n",
      "                     'jumlahTiket': 2,\n",
      "                     'kodePenerbangan': 1,\n",
      "                     'namaPemesan': 'John Doe',\n",
      "                     'totalPrice': 5000000},\n",
      "                    {'harga': 2600000,\n",
      "                     'id': '3',\n",
      "                     'jumlahTiket': 2,\n",
      "                     'kodePenerbangan': 2,\n",
      "                     'namaPemesan': 'Xyla',\n",
      "                     'totalPrice': 5200000},\n",
      "                    {'harga': 2800000,\n",
      "                     'id': '5',\n",
      "                     'jumlahTiket': 3,\n",
      "                     'kodePenerbangan': 4,\n",
      "                     'namaPemesan': 'Maharani',\n",
      "                     'totalPrice': 8400000},\n",
      "                    {'harga': 2700000,\n",
      "                     'id': '6',\n",
      "                     'jumlahTiket': 2,\n",
      "                     'kodePenerbangan': 3,\n",
      "                     'namaPemesan': 'Regina',\n",
      "                     'totalPrice': 5400000}]}\n"
     ]
    }
   ],
   "source": [
    "query_keranjang_items = \"\"\"\n",
    "{\n",
    "    keranjangItems {\n",
    "        id\n",
    "        kodePenerbangan\n",
    "        namaPemesan\n",
    "        jumlahTiket\n",
    "        harga\n",
    "        totalPrice\n",
    "    }\n",
    "}\n",
    "\"\"\"\n",
    "\n",
    "result = schema.execute(query_keranjang_items)\n",
    "if result.errors:\n",
    "    print(\"Errors occurred:\")\n",
    "    for error in result.errors:\n",
    "        print(error)\n",
    "else:\n",
    "    print(\"Query result data:\")\n",
    "    pprint(result.data)"
   ]
  }
 ],
 "metadata": {
  "kernelspec": {
   "display_name": "graphql",
   "language": "python",
   "name": "python3"
  },
  "language_info": {
   "codemirror_mode": {
    "name": "ipython",
    "version": 3
   },
   "file_extension": ".py",
   "mimetype": "text/x-python",
   "name": "python",
   "nbconvert_exporter": "python",
   "pygments_lexer": "ipython3",
   "version": "3.10.10"
  }
 },
 "nbformat": 4,
 "nbformat_minor": 2
}
