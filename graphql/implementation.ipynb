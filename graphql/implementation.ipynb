{
 "cells": [
  {
   "cell_type": "code",
   "execution_count": 97,
   "metadata": {},
   "outputs": [],
   "source": [
    "import graphene\n",
    "from pprint import pprint\n"
   ]
  },
  {
   "cell_type": "code",
   "execution_count": 99,
   "metadata": {},
   "outputs": [],
   "source": [
    "class TiketPenerbangan(graphene.ObjectType):\n",
    "    kodePenerbangan = graphene.ID()\n",
    "    namaMaskapai = graphene.String()\n",
    "    harga = graphene.Int()\n",
    "\n",
    "class Query(graphene.ObjectType):\n",
    "    tiket = graphene.Field(TiketPenerbangan)\n",
    "    tikets = graphene.List(TiketPenerbangan)\n",
    "\n",
    "    def resolve_tiket(self,info):\n",
    "        return TiketPenerbangan(kodePenerbangan='1', namaMaskapai='Air Asia', harga=2000000)\n",
    "    \n",
    "    def resolve_tikets(self,info):\n",
    "        return [\n",
    "            TiketPenerbangan(kodePenerbangan='1', namaMaskapai='Air Asia', harga=2000000),\n",
    "            TiketPenerbangan(kodePenerbangan='2', namaMaskapai='Lion Air', harga=3000000),\n",
    "            TiketPenerbangan(kodePenerbangan='3', namaMaskapai='Batik Air', harga=4000000)\n",
    "        ]\n",
    "\n",
    "schema = graphene.Schema(query=Query)"
   ]
  },
  {
   "cell_type": "markdown",
   "metadata": {},
   "source": [
    "## Test Show 1 Flight"
   ]
  },
  {
   "cell_type": "code",
   "execution_count": 102,
   "metadata": {},
   "outputs": [
    {
     "name": "stdout",
     "output_type": "stream",
     "text": [
      "Result data:\n",
      "{'tiket': {'kodePenerbangan': '1', 'namaMaskapai': 'Air Asia'}}\n"
     ]
    }
   ],
   "source": [
    "q = \"\"\"\n",
    "{\n",
    "    tiket {\n",
    "        kodePenerbangan\n",
    "        namaMaskapai\n",
    "    }\n",
    "}\n",
    "\"\"\"\n",
    "\n",
    "result = schema.execute(q)\n",
    "if result.errors:\n",
    "    print(\"Errors occurred:\")\n",
    "    for error in result.errors:\n",
    "        print(error)\n",
    "else:\n",
    "    print(\"Result data:\")\n",
    "    pprint(result.data)"
   ]
  },
  {
   "cell_type": "markdown",
   "metadata": {},
   "source": [
    "## Test Show All Flights"
   ]
  },
  {
   "cell_type": "code",
   "execution_count": 104,
   "metadata": {},
   "outputs": [
    {
     "name": "stdout",
     "output_type": "stream",
     "text": [
      "Result data:\n",
      "{'tikets': [{'harga': 2000000, 'namaMaskapai': 'Air Asia'},\n",
      "            {'harga': 3000000, 'namaMaskapai': 'Lion Air'},\n",
      "            {'harga': 4000000, 'namaMaskapai': 'Batik Air'}]}\n"
     ]
    }
   ],
   "source": [
    "q = \"\"\"\n",
    "{\n",
    "    tikets {\n",
    "        namaMaskapai\n",
    "        harga\n",
    "    }\n",
    "}\n",
    "\"\"\"\n",
    "\n",
    "result = schema.execute(q)\n",
    "if result.errors:\n",
    "    print(\"Errors occurred:\")\n",
    "    for error in result.errors:\n",
    "        print(error)\n",
    "else:\n",
    "    print(\"Result data:\")\n",
    "    pprint(result.data)"
   ]
  },
  {
   "cell_type": "markdown",
   "metadata": {},
   "source": [
    "## Update Data"
   ]
  },
  {
   "cell_type": "code",
   "execution_count": 66,
   "metadata": {},
   "outputs": [],
   "source": [
    "data = [\n",
    "    {'kodePenerbangan': '1', 'namaMaskapai': 'Indonesia Air', 'harga':2500000},\n",
    "    {'kodePenerbangan': '2', 'namaMaskapai': 'Australia Air', 'harga':2600000},\n",
    "    {'kodePenerbangan': '3', 'namaMaskapai': 'Netherland Air', 'harga':2700000},\n",
    "    {'kodePenerbangan': '4', 'namaMaskapai': 'America Air', 'harga':2800000},\n",
    "    {'kodePenerbangan': '5', 'namaMaskapai': 'Missisipi Air', 'harga':2900000},\n",
    "    {'kodePenerbangan': '6', 'namaMaskapai': 'Japan Air', 'harga':3000000}\n",
    "]"
   ]
  },
  {
   "cell_type": "code",
   "execution_count": 68,
   "metadata": {},
   "outputs": [
    {
     "data": {
      "text/plain": [
       "[{'kodePenerbangan': '1', 'namaMaskapai': 'Indonesia Air', 'harga': 2500000},\n",
       " {'kodePenerbangan': '2', 'namaMaskapai': 'Australia Air', 'harga': 2600000},\n",
       " {'kodePenerbangan': '3', 'namaMaskapai': 'Netherland Air', 'harga': 2700000},\n",
       " {'kodePenerbangan': '4', 'namaMaskapai': 'America Air', 'harga': 2800000},\n",
       " {'kodePenerbangan': '5', 'namaMaskapai': 'Missisipi Air', 'harga': 2900000},\n",
       " {'kodePenerbangan': '6', 'namaMaskapai': 'Japan Air', 'harga': 3000000}]"
      ]
     },
     "execution_count": 68,
     "metadata": {},
     "output_type": "execute_result"
    }
   ],
   "source": [
    "data"
   ]
  },
  {
   "cell_type": "code",
   "execution_count": 105,
   "metadata": {},
   "outputs": [],
   "source": [
    "class TiketPenerbangan(graphene.ObjectType):\n",
    "    kodePenerbangan = graphene.ID()\n",
    "    namaMaskapai = graphene.String()\n",
    "    harga = graphene.Int()\n",
    "\n",
    "class Query(graphene.ObjectType):\n",
    "    tiket = graphene.Field(TiketPenerbangan)\n",
    "    tikets = graphene.List(TiketPenerbangan)\n",
    "\n",
    "    def resolve_tiket(self,info):\n",
    "        return TiketPenerbangan(kodePenerbangan=data[1]['kodePenerbangan'], namaMaskapai=data[1]['namaMaskapai'], harga=data[1]['harga'])\n",
    "    \n",
    "    def resolve_tikets(self,info):\n",
    "        return [TiketPenerbangan(kodePenerbangan=i['kodePenerbangan'], namaMaskapai=i['namaMaskapai'], harga=i['harga']) for i in data\n",
    "        ]\n",
    "\n",
    "schema = graphene.Schema(query=Query)"
   ]
  },
  {
   "cell_type": "code",
   "execution_count": 106,
   "metadata": {},
   "outputs": [
    {
     "name": "stdout",
     "output_type": "stream",
     "text": [
      "Result data:\n",
      "{'tiket': {'harga': 2600000,\n",
      "           'kodePenerbangan': '2',\n",
      "           'namaMaskapai': 'Australia Air'}}\n"
     ]
    }
   ],
   "source": [
    "q = \"\"\"\n",
    "{\n",
    "    tiket {\n",
    "        kodePenerbangan\n",
    "        namaMaskapai        \n",
    "        harga\n",
    "    }\n",
    "}\n",
    "\"\"\"\n",
    "\n",
    "result = schema.execute(q)\n",
    "if result.errors:\n",
    "    print(\"Errors occurred:\")\n",
    "    for error in result.errors:\n",
    "        print(error)\n",
    "else:\n",
    "    print(\"Result data:\")\n",
    "    pprint(result.data)"
   ]
  },
  {
   "cell_type": "code",
   "execution_count": 107,
   "metadata": {},
   "outputs": [
    {
     "name": "stdout",
     "output_type": "stream",
     "text": [
      "Result data:\n",
      "{'tikets': [{'harga': 2500000, 'kodePenerbangan': '1'},\n",
      "            {'harga': 2600000, 'kodePenerbangan': '2'},\n",
      "            {'harga': 2700000, 'kodePenerbangan': '3'},\n",
      "            {'harga': 2800000, 'kodePenerbangan': '4'},\n",
      "            {'harga': 2900000, 'kodePenerbangan': '5'},\n",
      "            {'harga': 3000000, 'kodePenerbangan': '6'}]}\n"
     ]
    }
   ],
   "source": [
    "q = \"\"\"\n",
    "{\n",
    "    tikets {\n",
    "        kodePenerbangan  \n",
    "        harga\n",
    "    }\n",
    "}\n",
    "\"\"\"\n",
    "\n",
    "result = schema.execute(q)\n",
    "if result.errors:\n",
    "    print(\"Errors occurred:\")\n",
    "    for error in result.errors:\n",
    "        print(error)\n",
    "else:\n",
    "    print(\"Result data:\")\n",
    "    pprint(result.data)"
   ]
  }
 ],
 "metadata": {
  "kernelspec": {
   "display_name": "graphql",
   "language": "python",
   "name": "python3"
  },
  "language_info": {
   "codemirror_mode": {
    "name": "ipython",
    "version": 3
   },
   "file_extension": ".py",
   "mimetype": "text/x-python",
   "name": "python",
   "nbconvert_exporter": "python",
   "pygments_lexer": "ipython3",
   "version": "3.10.10"
  }
 },
 "nbformat": 4,
 "nbformat_minor": 2
}
